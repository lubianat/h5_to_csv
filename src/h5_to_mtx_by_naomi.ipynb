{
 "cells": [
  {
   "cell_type": "code",
   "execution_count": 7,
   "metadata": {},
   "outputs": [],
   "source": [
    "import h5py\n",
    "import pandas as pd\n",
    "import numpy as np\n",
    "import scipy\n",
    "from scipy import io\n",
    "from scipy import sparse\n",
    "from openpyxl.workbook import Workbook"
   ]
  },
  {
   "cell_type": "code",
   "execution_count": 8,
   "metadata": {},
   "outputs": [],
   "source": [
    "def h5py_dataset_iterator(g, prefix=''):\n",
    "    for key in g.keys():\n",
    "        item = g[key]\n",
    "        path = '{}/{}'.format(prefix, key)\n",
    "        if isinstance(item, h5py.Dataset): # test for dataset\n",
    "            yield (path, item)\n",
    "        elif isinstance(item, h5py.Group): # test for group (go down)\n",
    "            yield from h5py_dataset_iterator(item, path)"
   ]
  },
  {
   "cell_type": "code",
   "execution_count": null,
   "metadata": {},
   "outputs": [],
   "source": [
    "with h5py.File('../results/preprocessed_and_filtered_GSE115149.h5ad', 'r') as f:\n",
    "    for (path, dset) in h5py_dataset_iterator(f):\n",
    "        print(path, dset)\n",
    "        if path == \"/hg19/data\":\n",
    "            data = np.array(dset)\n",
    "        elif path == \"/hg19/indices\":\n",
    "            indices = np.array(dset)\n",
    "        elif path == \"/hg19/indptr\":\n",
    "            indptr = np.array(dset)\n",
    "        elif path == \"/hg19/barcodes\":\n",
    "            barcodes = np.array(dset)\n",
    "        elif path == \"/hg19/genes\":\n",
    "            genes = np.array(dset)\n",
    "        #print(n1.shape)\n",
    "    #    d = pd.DataFrame(n1)\n",
    "    #    d.to_csv(\"h5-data.tsv\",sep='\\t',index=False,header=False)"
   ]
  },
  {
   "cell_type": "code",
   "execution_count": 6,
   "metadata": {},
   "outputs": [
    {
     "name": "stdout",
     "output_type": "stream",
     "text": [
      "sparseok\n",
      "mtxok\n",
      "dataframeok\n"
     ]
    }
   ],
   "source": [
    "barcodesall = pd.DataFrame(barcodes, dtype=str)\n",
    "barcodesall.to_csv('barcodes.tsv',sep='\\t',index=False,header=False)\n",
    "genesall = pd.DataFrame(barcodes)\n",
    "genesall.to_csv('barcodes.tsv',sep='\\t',index=False,header=False)\n",
    "\n",
    "mtx = sparse.csc_matrix((data, indices, indptr), shape=(32738, 4808))\n",
    "print(\"sparseok\")\n",
    "mtx1 = mtx.todense()\n",
    "print(\"mtxok\")\n",
    "mtx2 = pd.DataFrame(mtx1)\n",
    "print(\"dataframeok\")\n",
    "\n",
    "io.mmwrite(\"../results/mmout\", mtx)"
   ]
  },
  {
   "cell_type": "code",
   "execution_count": null,
   "metadata": {},
   "outputs": [],
   "source": []
  }
 ],
 "metadata": {
  "kernelspec": {
   "display_name": "Python 3",
   "language": "python",
   "name": "python3"
  },
  "language_info": {
   "codemirror_mode": {
    "name": "ipython",
    "version": 3
   },
   "file_extension": ".py",
   "mimetype": "text/x-python",
   "name": "python",
   "nbconvert_exporter": "python",
   "pygments_lexer": "ipython3",
   "version": "3.6.9"
  }
 },
 "nbformat": 4,
 "nbformat_minor": 4
}
