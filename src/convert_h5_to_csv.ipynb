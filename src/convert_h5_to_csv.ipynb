{
 "cells": [
  {
   "cell_type": "code",
   "execution_count": 1,
   "metadata": {},
   "outputs": [],
   "source": [
    "import h5py\n",
    "import numpy as np\n",
    "import collections\n",
    "import scipy.sparse as sp_sparse\n",
    "import tables\n",
    "import pandas as pd"
   ]
  },
  {
   "cell_type": "code",
   "execution_count": 4,
   "metadata": {},
   "outputs": [
    {
     "name": "stdout",
     "output_type": "stream",
     "text": [
      "['barcodes', 'data', 'gene_names', 'genes', 'indices', 'indptr', 'shape']\n"
     ]
    },
    {
     "name": "stderr",
     "output_type": "stream",
     "text": [
      "/home/lubianat/.local/lib/python3.6/site-packages/ipykernel_launcher.py:3: H5pyDeprecationWarning: The default file mode will change to 'r' (read-only) in h5py 3.0. To suppress this warning, pass the mode you need to h5py.File(), or set the global default h5.get_config().default_file_mode, or set the environment variable H5PY_DEFAULT_READONLY=1. Available modes are: 'r', 'r+', 'w', 'w-'/'x', 'a'. See the docs for details.\n",
      "  This is separate from the ipykernel package so we can avoid doing imports until\n"
     ]
    }
   ],
   "source": [
    "file_path = \"../data/GSE115149_filtered_gene_bc_matrices_h5.h5\"\n",
    "\n",
    "with h5py.File(file_path) as f:\n",
    "    data = f[\"hg19\"]\n",
    "    print(list(data))"
   ]
  },
  {
   "cell_type": "code",
   "execution_count": 5,
   "metadata": {},
   "outputs": [
    {
     "name": "stdout",
     "output_type": "stream",
     "text": [
      "[b'AAACCTGCAAGCCGTC-1' b'AAACCTGCACAGACTT-1' b'AAACCTGCACAGCGTC-1' ...\n",
      " b'TTTGTCACATCCCACT-2' b'TTTGTCACATCCGCGA-2' b'TTTGTCATCAGGCCCA-2']\n"
     ]
    }
   ],
   "source": [
    "\n",
    "def get_matrix_from_h5(filename):\n",
    "    with tables.open_file(filename, 'r') as f:\n",
    "        mat_group = f.get_node(f.root, 'hg19')\n",
    "        barcodes = f.get_node(mat_group, 'barcodes').read()\n",
    "        print(barcodes)\n",
    "        data = getattr(mat_group, 'data').read()\n",
    "        indices = getattr(mat_group, 'indices').read()\n",
    "        indptr = getattr(mat_group, 'indptr').read()\n",
    "        shape = getattr(mat_group, 'shape').read()\n",
    "        matrix = sp_sparse.csc_matrix((data, indices, indptr), shape=shape)\n",
    "        gene_names = f.get_node(mat_group, 'gene_names').read()\n",
    "    \n",
    "        return barcodes, matrix, gene_names\n",
    " \n",
    "\n",
    "barcodes, filtered_feature_bc_matrix, gene_names = get_matrix_from_h5(file_path)"
   ]
  },
  {
   "cell_type": "code",
   "execution_count": 6,
   "metadata": {},
   "outputs": [],
   "source": [
    "import scipy.sparse\n",
    "\n",
    "msc_dataset = pd.DataFrame.sparse.from_spmatrix(filtered_feature_bc_matrix)\n"
   ]
  },
  {
   "cell_type": "code",
   "execution_count": 7,
   "metadata": {},
   "outputs": [
    {
     "data": {
      "text/html": [
       "<div>\n",
       "<style scoped>\n",
       "    .dataframe tbody tr th:only-of-type {\n",
       "        vertical-align: middle;\n",
       "    }\n",
       "\n",
       "    .dataframe tbody tr th {\n",
       "        vertical-align: top;\n",
       "    }\n",
       "\n",
       "    .dataframe thead th {\n",
       "        text-align: right;\n",
       "    }\n",
       "</style>\n",
       "<table border=\"1\" class=\"dataframe\">\n",
       "  <thead>\n",
       "    <tr style=\"text-align: right;\">\n",
       "      <th></th>\n",
       "      <th>b'AAACCTGCAAGCCGTC-1'</th>\n",
       "      <th>b'AAACCTGCACAGACTT-1'</th>\n",
       "      <th>b'AAACCTGCACAGCGTC-1'</th>\n",
       "      <th>b'AAACCTGCATGGATGG-1'</th>\n",
       "      <th>b'AAACCTGGTAAATGAC-1'</th>\n",
       "      <th>b'AAACCTGTCCTGCAGG-1'</th>\n",
       "      <th>b'AAACGGGTCACAGTAC-1'</th>\n",
       "      <th>b'AAACGGGTCTCACATT-1'</th>\n",
       "      <th>b'AAACGGGTCTCGCATC-1'</th>\n",
       "      <th>b'AAACGGGTCTCTTATG-1'</th>\n",
       "      <th>...</th>\n",
       "      <th>b'TTTGCGCTCGACCAGC-2'</th>\n",
       "      <th>b'TTTGCGCTCGCCTGTT-2'</th>\n",
       "      <th>b'TTTGCGCTCTAACTGG-2'</th>\n",
       "      <th>b'TTTGGTTCAAGGACAC-2'</th>\n",
       "      <th>b'TTTGGTTCACCTTGTC-2'</th>\n",
       "      <th>b'TTTGGTTGTTCACCTC-2'</th>\n",
       "      <th>b'TTTGGTTTCAGATAAG-2'</th>\n",
       "      <th>b'TTTGTCACATCCCACT-2'</th>\n",
       "      <th>b'TTTGTCACATCCGCGA-2'</th>\n",
       "      <th>b'TTTGTCATCAGGCCCA-2'</th>\n",
       "    </tr>\n",
       "  </thead>\n",
       "  <tbody>\n",
       "    <tr>\n",
       "      <th>b'MIR1302-10'</th>\n",
       "      <td>0</td>\n",
       "      <td>0</td>\n",
       "      <td>0</td>\n",
       "      <td>0</td>\n",
       "      <td>0</td>\n",
       "      <td>0</td>\n",
       "      <td>0</td>\n",
       "      <td>0</td>\n",
       "      <td>0</td>\n",
       "      <td>0</td>\n",
       "      <td>...</td>\n",
       "      <td>0</td>\n",
       "      <td>0</td>\n",
       "      <td>0</td>\n",
       "      <td>0</td>\n",
       "      <td>0</td>\n",
       "      <td>0</td>\n",
       "      <td>0</td>\n",
       "      <td>0</td>\n",
       "      <td>0</td>\n",
       "      <td>0</td>\n",
       "    </tr>\n",
       "  </tbody>\n",
       "</table>\n",
       "<p>1 rows × 4808 columns</p>\n",
       "</div>"
      ],
      "text/plain": [
       "               b'AAACCTGCAAGCCGTC-1'  b'AAACCTGCACAGACTT-1'  \\\n",
       "b'MIR1302-10'                      0                      0   \n",
       "\n",
       "               b'AAACCTGCACAGCGTC-1'  b'AAACCTGCATGGATGG-1'  \\\n",
       "b'MIR1302-10'                      0                      0   \n",
       "\n",
       "               b'AAACCTGGTAAATGAC-1'  b'AAACCTGTCCTGCAGG-1'  \\\n",
       "b'MIR1302-10'                      0                      0   \n",
       "\n",
       "               b'AAACGGGTCACAGTAC-1'  b'AAACGGGTCTCACATT-1'  \\\n",
       "b'MIR1302-10'                      0                      0   \n",
       "\n",
       "               b'AAACGGGTCTCGCATC-1'  b'AAACGGGTCTCTTATG-1'  ...  \\\n",
       "b'MIR1302-10'                      0                      0  ...   \n",
       "\n",
       "               b'TTTGCGCTCGACCAGC-2'  b'TTTGCGCTCGCCTGTT-2'  \\\n",
       "b'MIR1302-10'                      0                      0   \n",
       "\n",
       "               b'TTTGCGCTCTAACTGG-2'  b'TTTGGTTCAAGGACAC-2'  \\\n",
       "b'MIR1302-10'                      0                      0   \n",
       "\n",
       "               b'TTTGGTTCACCTTGTC-2'  b'TTTGGTTGTTCACCTC-2'  \\\n",
       "b'MIR1302-10'                      0                      0   \n",
       "\n",
       "               b'TTTGGTTTCAGATAAG-2'  b'TTTGTCACATCCCACT-2'  \\\n",
       "b'MIR1302-10'                      0                      0   \n",
       "\n",
       "               b'TTTGTCACATCCGCGA-2'  b'TTTGTCATCAGGCCCA-2'  \n",
       "b'MIR1302-10'                      0                      0  \n",
       "\n",
       "[1 rows x 4808 columns]"
      ]
     },
     "execution_count": 7,
     "metadata": {},
     "output_type": "execute_result"
    }
   ],
   "source": [
    "msc_dataset.columns = barcodes\n",
    "msc_dataset.index = gene_names\n",
    "msc_dataset.head(1)"
   ]
  },
  {
   "cell_type": "code",
   "execution_count": 9,
   "metadata": {},
   "outputs": [],
   "source": [
    "msc_dataset.to_csv(\"../results/msc_dataset.csv\")"
   ]
  },
  {
   "cell_type": "code",
   "execution_count": null,
   "metadata": {},
   "outputs": [],
   "source": []
  }
 ],
 "metadata": {
  "kernelspec": {
   "display_name": "Python 3",
   "language": "python",
   "name": "python3"
  },
  "language_info": {
   "codemirror_mode": {
    "name": "ipython",
    "version": 3
   },
   "file_extension": ".py",
   "mimetype": "text/x-python",
   "name": "python",
   "nbconvert_exporter": "python",
   "pygments_lexer": "ipython3",
   "version": "3.6.9"
  }
 },
 "nbformat": 4,
 "nbformat_minor": 4
}
